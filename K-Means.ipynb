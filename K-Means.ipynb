{
 "cells": [
  {
   "cell_type": "code",
   "execution_count": 1,
   "metadata": {},
   "outputs": [],
   "source": [
    "import numpy as np\n",
    "import matplotlib.pyplot as plt"
   ]
  },
  {
   "cell_type": "code",
   "execution_count": 2,
   "metadata": {},
   "outputs": [],
   "source": [
    "# Creating class K-Means\n",
    "\n",
    "class KMeans:\n",
    "    def __init__(self, k=2, max_iter=100):\n",
    "        self.k = k\n",
    "        self.max_iter = max_iter\n",
    "        \n",
    "    def fit(self, X):\n",
    "        self.centroids = []\n",
    "        for i in range(self.k):\n",
    "            self.centroids.append(X[np.random.randint(0, len(X))])\n",
    "            \n",
    "        for i in range(self.max_iter):\n",
    "            self.clusters = {}\n",
    "            for j in range(self.k):\n",
    "                self.clusters[j] = []\n",
    "                \n",
    "            for x in X:\n",
    "                distances = [np.linalg.norm(x - c) for c in self.centroids]\n",
    "                cluster = np.argmin(distances)\n",
    "                self.clusters[cluster].append(x)\n",
    "                \n",
    "            prev_centroids = self.centroids.copy()\n",
    "            \n",
    "            for cluster in self.clusters:\n",
    "                self.centroids[cluster] = np.average(self.clusters[cluster], axis=0)\n",
    "                \n",
    "            converged = True\n",
    "            for j in range(self.k):\n",
    "                if not np.array_equal(self.centroids[j], prev_centroids[j]):\n",
    "                    converged = False\n",
    "                    break\n",
    "                    \n",
    "            if converged:\n",
    "                break\n",
    "                \n",
    "    def predict(self, X):\n",
    "        predictions = []\n",
    "        for x in X:\n",
    "            distances = [np.linalg.norm(x - c) for c in self.centroids]\n",
    "            cluster = np.argmin(distances)\n",
    "            predictions.append(cluster)\n",
    "        return predictions\n",
    "\n",
    "\n"
   ]
  },
  {
   "cell_type": "code",
   "execution_count": 3,
   "metadata": {},
   "outputs": [
    {
     "name": "stdout",
     "output_type": "stream",
     "text": [
      "[array([7.33333333, 9.        ]), array([1.16666667, 1.46666667])]\n",
      "[1, 1, 0, 0, 1, 0]\n"
     ]
    },
    {
     "data": {
      "image/png": "[encoded data removed]",
      "text/plain": [
       "<Figure size 432x288 with 1 Axes>"
      ]
     },
     "metadata": {
      "needs_background": "light"
     },
     "output_type": "display_data"
    }
   ],
   "source": [
    "# example usage\n",
    "X = np.array([[1, 2], [1.5, 1.8], [5, 8], [8, 8], [1, 0.6], [9, 11]])\n",
    "kmeans = KMeans(k=2)\n",
    "kmeans.fit(X)\n",
    "print(kmeans.centroids)\n",
    "print(kmeans.predict(X))\n",
    "\n",
    "# plot the clusters\n",
    "colors = ['r', 'g', 'b', 'c', 'm', 'y', 'k']\n",
    "for i in range(kmeans.k):\n",
    "    plt.scatter(np.array(kmeans.clusters[i])[:,0], np.array(kmeans.clusters[i])[:,1], color=colors[i])\n",
    "plt.scatter(np.array(kmeans.centroids)[:,0], np.array(kmeans.centroids)[:,1], color='k', marker='*', s=100)\n",
    "plt.show()"
   ]
  }
 ],
 "metadata": {
  "kernelspec": {
   "display_name": "Python 3",
   "language": "python",
   "name": "python3"
  },
  "language_info": {
   "codemirror_mode": {
    "name": "ipython",
    "version": 3
   },
   "file_extension": ".py",
   "mimetype": "text/x-python",
   "name": "python",
   "nbconvert_exporter": "python",
   "pygments_lexer": "ipython3",
   "version": "3.10.5"
  },
  "orig_nbformat": 4,
  "vscode": {
   "interpreter": {
    "hash": "26de051ba29f2982a8de78e945f0abaf191376122a1563185a90213a26c5da77"
   }
  }
 },
 "nbformat": 4,
 "nbformat_minor": 2
}
